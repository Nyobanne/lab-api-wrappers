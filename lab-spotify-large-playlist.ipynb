{
 "cells": [
  {
   "cell_type": "markdown",
   "metadata": {
    "id": "kOBk3PQHeJef"
   },
   "source": [
    "# 6.5 GNOD - API wrappers"
   ]
  },
  {
   "cell_type": "markdown",
   "metadata": {},
   "source": [
    "create a collection of songs with their audio features"
   ]
  },
  {
   "cell_type": "code",
   "execution_count": 1,
   "metadata": {
    "colab": {
     "base_uri": "https://localhost:8080/"
    },
    "executionInfo": {
     "elapsed": 5181,
     "status": "ok",
     "timestamp": 1619595340145,
     "user": {
      "displayName": "David Henriques",
      "photoUrl": "",
      "userId": "14332050621134291491"
     },
     "user_tz": -60
    },
    "id": "0h1RmZ5joIoV",
    "outputId": "007f1960-84d0-4bb8-854f-1c9d2e8d6dc9"
   },
   "outputs": [],
   "source": [
    "#!pip install spotipy"
   ]
  },
  {
   "cell_type": "markdown",
   "metadata": {
    "id": "OhLA0o_5eJep"
   },
   "source": [
    "#### Authentification"
   ]
  },
  {
   "cell_type": "code",
   "execution_count": 2,
   "metadata": {
    "id": "JuPP1QvSaGdp"
   },
   "outputs": [],
   "source": [
    "import spotipy\n",
    "from spotipy.oauth2 import SpotifyClientCredentials\n",
    "import spotipy\n",
    "from spotipy.oauth2 import SpotifyClientCredentials\n",
    "import pandas as pd"
   ]
  },
  {
   "cell_type": "markdown",
   "metadata": {
    "id": "4iW0BQKonLZq"
   },
   "source": [
    "#### retrieving secrets\n",
    "* creating a .gitignore file containing the name of the file secrets.txt on a line by its own,\n",
    "* prevent the secrets file from being pushed to github"
   ]
  },
  {
   "cell_type": "code",
   "execution_count": 3,
   "metadata": {
    "id": "P6Z1QB7eeJeq"
   },
   "outputs": [],
   "source": [
    "secrets_file = open(\"secrets.txt\",\"r\")"
   ]
  },
  {
   "cell_type": "code",
   "execution_count": 4,
   "metadata": {
    "id": "O_zvc84bnbh2"
   },
   "outputs": [],
   "source": [
    "string = secrets_file.read()"
   ]
  },
  {
   "cell_type": "code",
   "execution_count": 5,
   "metadata": {
    "id": "gZmYnRSNngr7"
   },
   "outputs": [],
   "source": [
    "#creating a dictionary\n",
    "secrets_dict={}\n",
    "for line in string.split('\\n'):\n",
    "    if len(line) > 0:\n",
    "        #print(line.split(':'))\n",
    "        secrets_dict[line.split(':')[0]]=line.split(':')[1].strip()"
   ]
  },
  {
   "cell_type": "markdown",
   "metadata": {
    "id": "oAQak0FunTy8"
   },
   "source": [
    "#### authentication with secrets"
   ]
  },
  {
   "cell_type": "code",
   "execution_count": 6,
   "metadata": {
    "id": "HkTY3iTCnYdC"
   },
   "outputs": [],
   "source": [
    "#Initialize SpotiPy with user credentials\n",
    "sp = spotipy.Spotify(auth_manager=SpotifyClientCredentials(client_id=secrets_dict['clientid'],\n",
    "                                                           client_secret=secrets_dict['clientsecret']))"
   ]
  },
  {
   "cell_type": "markdown",
   "metadata": {
    "id": "tuHwMYm7eJe2"
   },
   "source": [
    "### Playlists\n",
    "\n",
    "We will need to collect a \"database\" of songs. Playlists are a good way to access relatively large amounts of songs."
   ]
  },
  {
   "cell_type": "code",
   "execution_count": 7,
   "metadata": {
    "id": "ELgJ1L0OeJe2"
   },
   "outputs": [],
   "source": [
    "# 10 000 title playlist\n",
    "playlist = sp.user_playlist_tracks(\"spotify\", \"6yPiKpy7evrwvZodByKvM9\")\n"
   ]
  },
  {
   "cell_type": "code",
   "execution_count": 8,
   "metadata": {
    "colab": {
     "base_uri": "https://localhost:8080/"
    },
    "executionInfo": {
     "elapsed": 856,
     "status": "ok",
     "timestamp": 1619598779950,
     "user": {
      "displayName": "David Henriques",
      "photoUrl": "",
      "userId": "14332050621134291491"
     },
     "user_tz": -60
    },
    "id": "Bt0gRt3yeJe3",
    "outputId": "2990767f-4391-43a9-96f3-977ba49021c4"
   },
   "outputs": [
    {
     "data": {
      "text/plain": [
       "dict_keys(['href', 'items', 'limit', 'next', 'offset', 'previous', 'total'])"
      ]
     },
     "execution_count": 8,
     "metadata": {},
     "output_type": "execute_result"
    }
   ],
   "source": [
    "# items\n",
    "playlist.keys() "
   ]
  },
  {
   "cell_type": "code",
   "execution_count": 9,
   "metadata": {
    "colab": {
     "base_uri": "https://localhost:8080/"
    },
    "executionInfo": {
     "elapsed": 1280,
     "status": "ok",
     "timestamp": 1619598865150,
     "user": {
      "displayName": "David Henriques",
      "photoUrl": "",
      "userId": "14332050621134291491"
     },
     "user_tz": -60
    },
    "id": "9G1L45gdnVJ8",
    "outputId": "7b818e8f-af14-46f3-92ed-f3beafde5e29"
   },
   "outputs": [
    {
     "data": {
      "text/plain": [
       "dict_keys(['added_at', 'added_by', 'is_local', 'primary_color', 'track', 'video_thumbnail'])"
      ]
     },
     "execution_count": 9,
     "metadata": {},
     "output_type": "execute_result"
    }
   ],
   "source": [
    "playlist[\"items\"][0].keys()"
   ]
  },
  {
   "cell_type": "code",
   "execution_count": 12,
   "metadata": {
    "colab": {
     "base_uri": "https://localhost:8080/"
    },
    "executionInfo": {
     "elapsed": 824,
     "status": "ok",
     "timestamp": 1619549928180,
     "user": {
      "displayName": "David Henriques",
      "photoUrl": "",
      "userId": "14332050621134291491"
     },
     "user_tz": -60
    },
    "id": "l0yBFx3deJe3",
    "outputId": "209b54f2-f6f9-44ba-c3d2-2c160847b416"
   },
   "outputs": [],
   "source": [
    "# how many songs : playlist[\"total\"]"
   ]
  },
  {
   "cell_type": "code",
   "execution_count": 14,
   "metadata": {
    "id": "fmY2SJRVeJe4"
   },
   "outputs": [],
   "source": [
    "from random import randint\n",
    "from time import sleep\n",
    "\n",
    "def get_playlist_tracks(playlist_id):\n",
    "    results = sp.user_playlist_tracks(\"spotify\",playlist_id)\n",
    "    tracks = results['items']\n",
    "    while results['next']!=None:\n",
    "        results = sp.next(results) #sp.next goes to the next page\n",
    "        tracks = tracks + results['items']\n",
    "        sleep(randint(0,1)/1000) #  Sleep for a random time between 0 and 1 second (1000 for millisecond)\n",
    "    return tracks"
   ]
  },
  {
   "cell_type": "code",
   "execution_count": 15,
   "metadata": {
    "colab": {
     "base_uri": "https://localhost:8080/"
    },
    "executionInfo": {
     "elapsed": 7838,
     "status": "ok",
     "timestamp": 1619600607247,
     "user": {
      "displayName": "David Henriques",
      "photoUrl": "",
      "userId": "14332050621134291491"
     },
     "user_tz": -60
    },
    "id": "Egt1qLpWeJe4",
    "outputId": "a13a55a5-b11f-413c-f5af-e07c9141918e",
    "scrolled": true
   },
   "outputs": [
    {
     "data": {
      "text/plain": [
       "10000"
      ]
     },
     "execution_count": 15,
     "metadata": {},
     "output_type": "execute_result"
    }
   ],
   "source": [
    "all_tracks = get_playlist_tracks(\"6yPiKpy7evrwvZodByKvM9\")\n",
    "len(all_tracks)"
   ]
  },
  {
   "cell_type": "code",
   "execution_count": 17,
   "metadata": {},
   "outputs": [],
   "source": [
    "from pandas import json_normalize\n",
    "pd.set_option(\"display.max_columns\", 0)\n",
    "\n",
    "tracks2 = json_normalize(all_tracks) #create a df out of all tracks of the playlist \n",
    "#still 10 000 rows"
   ]
  },
  {
   "cell_type": "code",
   "execution_count": 19,
   "metadata": {},
   "outputs": [],
   "source": [
    "artists_df2 = pd.DataFrame(columns=['href', 'id', 'name', 'type', 'uri', 'external_urls.spotify','song_id', 'song_name', 'popularity' ])\n",
    "for i in tracks2.index:\n",
    "    artists_for_song = json_normalize(tracks2.iloc[i]['track.artists'])\n",
    "    artists_for_song['song_id']    = tracks2.iloc[i]['track.id']         # keep song_id\n",
    "    artists_for_song['song_name']  = tracks2.iloc[i]['track.name']       # keep song_name\n",
    "    artists_for_song['popularity'] = tracks2.iloc[i]['track.popularity'] # popularity   \n",
    "    artists_df2 = pd.concat([artists_df2, artists_for_song], axis=0)"
   ]
  },
  {
   "cell_type": "code",
   "execution_count": 21,
   "metadata": {},
   "outputs": [
    {
     "data": {
      "text/html": [
       "<div>\n",
       "<style scoped>\n",
       "    .dataframe tbody tr th:only-of-type {\n",
       "        vertical-align: middle;\n",
       "    }\n",
       "\n",
       "    .dataframe tbody tr th {\n",
       "        vertical-align: top;\n",
       "    }\n",
       "\n",
       "    .dataframe thead th {\n",
       "        text-align: right;\n",
       "    }\n",
       "</style>\n",
       "<table border=\"1\" class=\"dataframe\">\n",
       "  <thead>\n",
       "    <tr style=\"text-align: right;\">\n",
       "      <th></th>\n",
       "      <th>href</th>\n",
       "      <th>id</th>\n",
       "      <th>name</th>\n",
       "      <th>type</th>\n",
       "      <th>uri</th>\n",
       "      <th>external_urls.spotify</th>\n",
       "      <th>song_id</th>\n",
       "      <th>song_name</th>\n",
       "      <th>popularity</th>\n",
       "    </tr>\n",
       "  </thead>\n",
       "  <tbody>\n",
       "    <tr>\n",
       "      <th>0</th>\n",
       "      <td>https://api.spotify.com/v1/artists/0IVapwlnM3d...</td>\n",
       "      <td>0IVapwlnM3dEOiMsHXsghT</td>\n",
       "      <td>Nosaj Thing</td>\n",
       "      <td>artist</td>\n",
       "      <td>spotify:artist:0IVapwlnM3dEOiMsHXsghT</td>\n",
       "      <td>https://open.spotify.com/artist/0IVapwlnM3dEOi...</td>\n",
       "      <td>33xMbeHzmWd6Od0BmLZEUs</td>\n",
       "      <td>2K</td>\n",
       "      <td>0</td>\n",
       "    </tr>\n",
       "    <tr>\n",
       "      <th>0</th>\n",
       "      <td>https://api.spotify.com/v1/artists/22WZ7M8sxp5...</td>\n",
       "      <td>22WZ7M8sxp5THdruNY3gXt</td>\n",
       "      <td>The Doors</td>\n",
       "      <td>artist</td>\n",
       "      <td>spotify:artist:22WZ7M8sxp5THdruNY3gXt</td>\n",
       "      <td>https://open.spotify.com/artist/22WZ7M8sxp5THd...</td>\n",
       "      <td>3UnyplmZaq547hwsfOR5yy</td>\n",
       "      <td>4 Billion Souls</td>\n",
       "      <td>26</td>\n",
       "    </tr>\n",
       "    <tr>\n",
       "      <th>0</th>\n",
       "      <td>https://api.spotify.com/v1/artists/4Z8W4fKeB5Y...</td>\n",
       "      <td>4Z8W4fKeB5YxbusRsdQVPb</td>\n",
       "      <td>Radiohead</td>\n",
       "      <td>artist</td>\n",
       "      <td>spotify:artist:4Z8W4fKeB5YxbusRsdQVPb</td>\n",
       "      <td>https://open.spotify.com/artist/4Z8W4fKeB5Yxbu...</td>\n",
       "      <td>1w8QCSDH4QobcQeT4uMKLm</td>\n",
       "      <td>4 Minute Warning</td>\n",
       "      <td>0</td>\n",
       "    </tr>\n",
       "    <tr>\n",
       "      <th>0</th>\n",
       "      <td>https://api.spotify.com/v1/artists/0UK6JkgUMa2...</td>\n",
       "      <td>0UK6JkgUMa28b4t8eCtg6P</td>\n",
       "      <td>Vitas</td>\n",
       "      <td>artist</td>\n",
       "      <td>spotify:artist:0UK6JkgUMa28b4t8eCtg6P</td>\n",
       "      <td>https://open.spotify.com/artist/0UK6JkgUMa28b4...</td>\n",
       "      <td>7J9mBHG4J2eIfDAv5BehKA</td>\n",
       "      <td>7 Element</td>\n",
       "      <td>0</td>\n",
       "    </tr>\n",
       "    <tr>\n",
       "      <th>0</th>\n",
       "      <td>https://api.spotify.com/v1/artists/4KWTAlx2Rvb...</td>\n",
       "      <td>4KWTAlx2RvbpseOGMEmROg</td>\n",
       "      <td>R.E.M.</td>\n",
       "      <td>artist</td>\n",
       "      <td>spotify:artist:4KWTAlx2RvbpseOGMEmROg</td>\n",
       "      <td>https://open.spotify.com/artist/4KWTAlx2Rvbpse...</td>\n",
       "      <td>1VZedwJj1gyi88WFRhfThb</td>\n",
       "      <td>#9 Dream</td>\n",
       "      <td>6</td>\n",
       "    </tr>\n",
       "    <tr>\n",
       "      <th>0</th>\n",
       "      <td>https://api.spotify.com/v1/artists/2jzc5TC5TVF...</td>\n",
       "      <td>2jzc5TC5TVFLXQlBNiIUzE</td>\n",
       "      <td>a-ha</td>\n",
       "      <td>artist</td>\n",
       "      <td>spotify:artist:2jzc5TC5TVFLXQlBNiIUzE</td>\n",
       "      <td>https://open.spotify.com/artist/2jzc5TC5TVFLXQ...</td>\n",
       "      <td>3DSmOF7ETJHAQEqqgoSJao</td>\n",
       "      <td>#9 Dream</td>\n",
       "      <td>12</td>\n",
       "    </tr>\n",
       "    <tr>\n",
       "      <th>0</th>\n",
       "      <td>https://api.spotify.com/v1/artists/7mnBLXK823v...</td>\n",
       "      <td>7mnBLXK823vNxN3UWB7Gfz</td>\n",
       "      <td>The Black Keys</td>\n",
       "      <td>artist</td>\n",
       "      <td>spotify:artist:7mnBLXK823vNxN3UWB7Gfz</td>\n",
       "      <td>https://open.spotify.com/artist/7mnBLXK823vNxN...</td>\n",
       "      <td>5HPnumlogzZtpLEaORZjz1</td>\n",
       "      <td>10 Lovers</td>\n",
       "      <td>53</td>\n",
       "    </tr>\n",
       "    <tr>\n",
       "      <th>0</th>\n",
       "      <td>https://api.spotify.com/v1/artists/1rAv1GhTQ2r...</td>\n",
       "      <td>1rAv1GhTQ2rmG94p9lU3rB</td>\n",
       "      <td>Julian Casablancas</td>\n",
       "      <td>artist</td>\n",
       "      <td>spotify:artist:1rAv1GhTQ2rmG94p9lU3rB</td>\n",
       "      <td>https://open.spotify.com/artist/1rAv1GhTQ2rmG9...</td>\n",
       "      <td>6i99ThziImjuFABb8rUQvy</td>\n",
       "      <td>11th Dimension</td>\n",
       "      <td>56</td>\n",
       "    </tr>\n",
       "  </tbody>\n",
       "</table>\n",
       "</div>"
      ],
      "text/plain": [
       "                                                href  ... popularity\n",
       "0  https://api.spotify.com/v1/artists/0IVapwlnM3d...  ...          0\n",
       "0  https://api.spotify.com/v1/artists/22WZ7M8sxp5...  ...         26\n",
       "0  https://api.spotify.com/v1/artists/4Z8W4fKeB5Y...  ...          0\n",
       "0  https://api.spotify.com/v1/artists/0UK6JkgUMa2...  ...          0\n",
       "0  https://api.spotify.com/v1/artists/4KWTAlx2Rvb...  ...          6\n",
       "0  https://api.spotify.com/v1/artists/2jzc5TC5TVF...  ...         12\n",
       "0  https://api.spotify.com/v1/artists/7mnBLXK823v...  ...         53\n",
       "0  https://api.spotify.com/v1/artists/1rAv1GhTQ2r...  ...         56\n",
       "\n",
       "[8 rows x 9 columns]"
      ]
     },
     "execution_count": 21,
     "metadata": {},
     "output_type": "execute_result"
    }
   ],
   "source": [
    "artists_df2.head(8) #artists with urls"
   ]
  },
  {
   "cell_type": "code",
   "execution_count": 22,
   "metadata": {},
   "outputs": [
    {
     "data": {
      "text/html": [
       "<div>\n",
       "<style scoped>\n",
       "    .dataframe tbody tr th:only-of-type {\n",
       "        vertical-align: middle;\n",
       "    }\n",
       "\n",
       "    .dataframe tbody tr th {\n",
       "        vertical-align: top;\n",
       "    }\n",
       "\n",
       "    .dataframe thead th {\n",
       "        text-align: right;\n",
       "    }\n",
       "</style>\n",
       "<table border=\"1\" class=\"dataframe\">\n",
       "  <thead>\n",
       "    <tr style=\"text-align: right;\">\n",
       "      <th></th>\n",
       "      <th>song_name</th>\n",
       "      <th>name</th>\n",
       "      <th>song_id</th>\n",
       "      <th>popularity</th>\n",
       "    </tr>\n",
       "  </thead>\n",
       "  <tbody>\n",
       "    <tr>\n",
       "      <th>0</th>\n",
       "      <td>2K</td>\n",
       "      <td>Nosaj Thing</td>\n",
       "      <td>33xMbeHzmWd6Od0BmLZEUs</td>\n",
       "      <td>0</td>\n",
       "    </tr>\n",
       "    <tr>\n",
       "      <th>0</th>\n",
       "      <td>4 Billion Souls</td>\n",
       "      <td>The Doors</td>\n",
       "      <td>3UnyplmZaq547hwsfOR5yy</td>\n",
       "      <td>26</td>\n",
       "    </tr>\n",
       "    <tr>\n",
       "      <th>0</th>\n",
       "      <td>4 Minute Warning</td>\n",
       "      <td>Radiohead</td>\n",
       "      <td>1w8QCSDH4QobcQeT4uMKLm</td>\n",
       "      <td>0</td>\n",
       "    </tr>\n",
       "    <tr>\n",
       "      <th>0</th>\n",
       "      <td>7 Element</td>\n",
       "      <td>Vitas</td>\n",
       "      <td>7J9mBHG4J2eIfDAv5BehKA</td>\n",
       "      <td>0</td>\n",
       "    </tr>\n",
       "    <tr>\n",
       "      <th>0</th>\n",
       "      <td>#9 Dream</td>\n",
       "      <td>R.E.M.</td>\n",
       "      <td>1VZedwJj1gyi88WFRhfThb</td>\n",
       "      <td>6</td>\n",
       "    </tr>\n",
       "  </tbody>\n",
       "</table>\n",
       "</div>"
      ],
      "text/plain": [
       "          song_name         name                 song_id popularity\n",
       "0                2K  Nosaj Thing  33xMbeHzmWd6Od0BmLZEUs          0\n",
       "0   4 Billion Souls    The Doors  3UnyplmZaq547hwsfOR5yy         26\n",
       "0  4 Minute Warning    Radiohead  1w8QCSDH4QobcQeT4uMKLm          0\n",
       "0         7 Element        Vitas  7J9mBHG4J2eIfDAv5BehKA          0\n",
       "0          #9 Dream       R.E.M.  1VZedwJj1gyi88WFRhfThb          6"
      ]
     },
     "execution_count": 22,
     "metadata": {},
     "output_type": "execute_result"
    }
   ],
   "source": [
    "df_final2 = artists_df2[['song_name', 'name', 'song_id', 'popularity']]\n",
    "df_final2.head() #final df for artists"
   ]
  },
  {
   "cell_type": "code",
   "execution_count": 34,
   "metadata": {},
   "outputs": [
    {
     "data": {
      "text/plain": [
       "song_name      0\n",
       "name           0\n",
       "song_id       82\n",
       "popularity     0\n",
       "dtype: int64"
      ]
     },
     "execution_count": 34,
     "metadata": {},
     "output_type": "execute_result"
    }
   ],
   "source": [
    "df_final2.isnull().sum() #82 nulls to remove"
   ]
  },
  {
   "cell_type": "code",
   "execution_count": 36,
   "metadata": {},
   "outputs": [
    {
     "name": "stderr",
     "output_type": "stream",
     "text": [
      "/var/folders/lh/fxd814lj4c94_w7c1zg3sc7r0000gp/T/ipykernel_14273/29554757.py:1: SettingWithCopyWarning: \n",
      "A value is trying to be set on a copy of a slice from a DataFrame\n",
      "\n",
      "See the caveats in the documentation: https://pandas.pydata.org/pandas-docs/stable/user_guide/indexing.html#returning-a-view-versus-a-copy\n",
      "  df_final2.dropna(inplace=True)\n"
     ]
    }
   ],
   "source": [
    "df_final2.dropna(inplace=True)"
   ]
  },
  {
   "cell_type": "code",
   "execution_count": 37,
   "metadata": {},
   "outputs": [],
   "source": [
    "audio_features_list = []\n",
    "chunks = [(i, i+100) for i in range(0, len(df_final2), 100)]\n",
    "for chunk in chunks:\n",
    "    id_list100 = df_final2['song_id'][chunk[0]:chunk[1]]  \n",
    "    audio_features_list = audio_features_list + sp.audio_features(id_list100)\n",
    "    sleep(randint(1,3000)/1000)"
   ]
  },
  {
   "cell_type": "code",
   "execution_count": 38,
   "metadata": {},
   "outputs": [
    {
     "data": {
      "text/plain": [
       "11771"
      ]
     },
     "execution_count": 38,
     "metadata": {},
     "output_type": "execute_result"
    }
   ],
   "source": [
    "len(audio_features_list)"
   ]
  },
  {
   "cell_type": "code",
   "execution_count": 39,
   "metadata": {},
   "outputs": [],
   "source": [
    "audio_features_df = json_normalize(audio_features_list)\n",
    "audio_features_df.drop_duplicates(inplace=True) # duplicates because some songs have more artists"
   ]
  },
  {
   "cell_type": "code",
   "execution_count": 40,
   "metadata": {},
   "outputs": [
    {
     "data": {
      "text/plain": [
       "(9894, 18)"
      ]
     },
     "execution_count": 40,
     "metadata": {},
     "output_type": "execute_result"
    }
   ],
   "source": [
    "audio_features_df.shape"
   ]
  },
  {
   "cell_type": "code",
   "execution_count": 41,
   "metadata": {},
   "outputs": [],
   "source": [
    "df_w_audio_ft = pd.merge(left=df_final2,\n",
    "                        right=audio_features_df,\n",
    "                        how='inner',\n",
    "                        left_on='song_id',\n",
    "                        right_on='id')\n"
   ]
  },
  {
   "cell_type": "code",
   "execution_count": 42,
   "metadata": {},
   "outputs": [
    {
     "data": {
      "text/html": [
       "<div>\n",
       "<style scoped>\n",
       "    .dataframe tbody tr th:only-of-type {\n",
       "        vertical-align: middle;\n",
       "    }\n",
       "\n",
       "    .dataframe tbody tr th {\n",
       "        vertical-align: top;\n",
       "    }\n",
       "\n",
       "    .dataframe thead th {\n",
       "        text-align: right;\n",
       "    }\n",
       "</style>\n",
       "<table border=\"1\" class=\"dataframe\">\n",
       "  <thead>\n",
       "    <tr style=\"text-align: right;\">\n",
       "      <th></th>\n",
       "      <th>song_name</th>\n",
       "      <th>name</th>\n",
       "      <th>song_id</th>\n",
       "      <th>popularity</th>\n",
       "      <th>danceability</th>\n",
       "      <th>energy</th>\n",
       "      <th>key</th>\n",
       "      <th>loudness</th>\n",
       "      <th>mode</th>\n",
       "      <th>speechiness</th>\n",
       "      <th>acousticness</th>\n",
       "      <th>instrumentalness</th>\n",
       "      <th>liveness</th>\n",
       "      <th>valence</th>\n",
       "      <th>tempo</th>\n",
       "      <th>type</th>\n",
       "      <th>id</th>\n",
       "      <th>uri</th>\n",
       "      <th>track_href</th>\n",
       "      <th>analysis_url</th>\n",
       "      <th>duration_ms</th>\n",
       "      <th>time_signature</th>\n",
       "    </tr>\n",
       "  </thead>\n",
       "  <tbody>\n",
       "    <tr>\n",
       "      <th>0</th>\n",
       "      <td>2K</td>\n",
       "      <td>Nosaj Thing</td>\n",
       "      <td>33xMbeHzmWd6Od0BmLZEUs</td>\n",
       "      <td>0</td>\n",
       "      <td>0.310</td>\n",
       "      <td>0.445</td>\n",
       "      <td>7</td>\n",
       "      <td>-13.355</td>\n",
       "      <td>0</td>\n",
       "      <td>0.0863</td>\n",
       "      <td>0.09400</td>\n",
       "      <td>0.067800</td>\n",
       "      <td>0.1130</td>\n",
       "      <td>0.122</td>\n",
       "      <td>95.360</td>\n",
       "      <td>audio_features</td>\n",
       "      <td>33xMbeHzmWd6Od0BmLZEUs</td>\n",
       "      <td>spotify:track:33xMbeHzmWd6Od0BmLZEUs</td>\n",
       "      <td>https://api.spotify.com/v1/tracks/33xMbeHzmWd6...</td>\n",
       "      <td>https://api.spotify.com/v1/audio-analysis/33xM...</td>\n",
       "      <td>152560</td>\n",
       "      <td>3</td>\n",
       "    </tr>\n",
       "    <tr>\n",
       "      <th>1</th>\n",
       "      <td>4 Billion Souls</td>\n",
       "      <td>The Doors</td>\n",
       "      <td>3UnyplmZaq547hwsfOR5yy</td>\n",
       "      <td>26</td>\n",
       "      <td>0.419</td>\n",
       "      <td>0.565</td>\n",
       "      <td>5</td>\n",
       "      <td>-11.565</td>\n",
       "      <td>1</td>\n",
       "      <td>0.0347</td>\n",
       "      <td>0.13700</td>\n",
       "      <td>0.337000</td>\n",
       "      <td>0.1280</td>\n",
       "      <td>0.648</td>\n",
       "      <td>151.277</td>\n",
       "      <td>audio_features</td>\n",
       "      <td>3UnyplmZaq547hwsfOR5yy</td>\n",
       "      <td>spotify:track:3UnyplmZaq547hwsfOR5yy</td>\n",
       "      <td>https://api.spotify.com/v1/tracks/3UnyplmZaq54...</td>\n",
       "      <td>https://api.spotify.com/v1/audio-analysis/3Uny...</td>\n",
       "      <td>197707</td>\n",
       "      <td>4</td>\n",
       "    </tr>\n",
       "    <tr>\n",
       "      <th>2</th>\n",
       "      <td>4 Minute Warning</td>\n",
       "      <td>Radiohead</td>\n",
       "      <td>1w8QCSDH4QobcQeT4uMKLm</td>\n",
       "      <td>0</td>\n",
       "      <td>0.354</td>\n",
       "      <td>0.302</td>\n",
       "      <td>9</td>\n",
       "      <td>-13.078</td>\n",
       "      <td>1</td>\n",
       "      <td>0.0326</td>\n",
       "      <td>0.59000</td>\n",
       "      <td>0.070900</td>\n",
       "      <td>0.1110</td>\n",
       "      <td>0.223</td>\n",
       "      <td>123.753</td>\n",
       "      <td>audio_features</td>\n",
       "      <td>1w8QCSDH4QobcQeT4uMKLm</td>\n",
       "      <td>spotify:track:1w8QCSDH4QobcQeT4uMKLm</td>\n",
       "      <td>https://api.spotify.com/v1/tracks/1w8QCSDH4Qob...</td>\n",
       "      <td>https://api.spotify.com/v1/audio-analysis/1w8Q...</td>\n",
       "      <td>244285</td>\n",
       "      <td>4</td>\n",
       "    </tr>\n",
       "    <tr>\n",
       "      <th>3</th>\n",
       "      <td>7 Element</td>\n",
       "      <td>Vitas</td>\n",
       "      <td>7J9mBHG4J2eIfDAv5BehKA</td>\n",
       "      <td>0</td>\n",
       "      <td>0.727</td>\n",
       "      <td>0.785</td>\n",
       "      <td>5</td>\n",
       "      <td>-6.707</td>\n",
       "      <td>0</td>\n",
       "      <td>0.0603</td>\n",
       "      <td>0.32500</td>\n",
       "      <td>0.126000</td>\n",
       "      <td>0.3100</td>\n",
       "      <td>0.960</td>\n",
       "      <td>129.649</td>\n",
       "      <td>audio_features</td>\n",
       "      <td>7J9mBHG4J2eIfDAv5BehKA</td>\n",
       "      <td>spotify:track:7J9mBHG4J2eIfDAv5BehKA</td>\n",
       "      <td>https://api.spotify.com/v1/tracks/7J9mBHG4J2eI...</td>\n",
       "      <td>https://api.spotify.com/v1/audio-analysis/7J9m...</td>\n",
       "      <td>249940</td>\n",
       "      <td>4</td>\n",
       "    </tr>\n",
       "    <tr>\n",
       "      <th>4</th>\n",
       "      <td>#9 Dream</td>\n",
       "      <td>R.E.M.</td>\n",
       "      <td>1VZedwJj1gyi88WFRhfThb</td>\n",
       "      <td>6</td>\n",
       "      <td>0.571</td>\n",
       "      <td>0.724</td>\n",
       "      <td>0</td>\n",
       "      <td>-5.967</td>\n",
       "      <td>1</td>\n",
       "      <td>0.0260</td>\n",
       "      <td>0.02310</td>\n",
       "      <td>0.003110</td>\n",
       "      <td>0.0919</td>\n",
       "      <td>0.385</td>\n",
       "      <td>116.755</td>\n",
       "      <td>audio_features</td>\n",
       "      <td>1VZedwJj1gyi88WFRhfThb</td>\n",
       "      <td>spotify:track:1VZedwJj1gyi88WFRhfThb</td>\n",
       "      <td>https://api.spotify.com/v1/tracks/1VZedwJj1gyi...</td>\n",
       "      <td>https://api.spotify.com/v1/audio-analysis/1VZe...</td>\n",
       "      <td>278320</td>\n",
       "      <td>4</td>\n",
       "    </tr>\n",
       "    <tr>\n",
       "      <th>...</th>\n",
       "      <td>...</td>\n",
       "      <td>...</td>\n",
       "      <td>...</td>\n",
       "      <td>...</td>\n",
       "      <td>...</td>\n",
       "      <td>...</td>\n",
       "      <td>...</td>\n",
       "      <td>...</td>\n",
       "      <td>...</td>\n",
       "      <td>...</td>\n",
       "      <td>...</td>\n",
       "      <td>...</td>\n",
       "      <td>...</td>\n",
       "      <td>...</td>\n",
       "      <td>...</td>\n",
       "      <td>...</td>\n",
       "      <td>...</td>\n",
       "      <td>...</td>\n",
       "      <td>...</td>\n",
       "      <td>...</td>\n",
       "      <td>...</td>\n",
       "      <td>...</td>\n",
       "    </tr>\n",
       "    <tr>\n",
       "      <th>11766</th>\n",
       "      <td>London Calling - Remastered</td>\n",
       "      <td>The Clash</td>\n",
       "      <td>5jzma6gCzYtKB1DbEwFZKH</td>\n",
       "      <td>75</td>\n",
       "      <td>0.651</td>\n",
       "      <td>0.801</td>\n",
       "      <td>0</td>\n",
       "      <td>-7.340</td>\n",
       "      <td>1</td>\n",
       "      <td>0.0514</td>\n",
       "      <td>0.12300</td>\n",
       "      <td>0.000000</td>\n",
       "      <td>0.0825</td>\n",
       "      <td>0.776</td>\n",
       "      <td>133.769</td>\n",
       "      <td>audio_features</td>\n",
       "      <td>5jzma6gCzYtKB1DbEwFZKH</td>\n",
       "      <td>spotify:track:5jzma6gCzYtKB1DbEwFZKH</td>\n",
       "      <td>https://api.spotify.com/v1/tracks/5jzma6gCzYtK...</td>\n",
       "      <td>https://api.spotify.com/v1/audio-analysis/5jzm...</td>\n",
       "      <td>200480</td>\n",
       "      <td>4</td>\n",
       "    </tr>\n",
       "    <tr>\n",
       "      <th>11767</th>\n",
       "      <td>Low Rider</td>\n",
       "      <td>War</td>\n",
       "      <td>2fmMPJb5EzZCx8BcNJvVk4</td>\n",
       "      <td>0</td>\n",
       "      <td>0.811</td>\n",
       "      <td>0.647</td>\n",
       "      <td>0</td>\n",
       "      <td>-10.989</td>\n",
       "      <td>1</td>\n",
       "      <td>0.0498</td>\n",
       "      <td>0.08230</td>\n",
       "      <td>0.681000</td>\n",
       "      <td>0.0572</td>\n",
       "      <td>0.990</td>\n",
       "      <td>139.787</td>\n",
       "      <td>audio_features</td>\n",
       "      <td>2fmMPJb5EzZCx8BcNJvVk4</td>\n",
       "      <td>spotify:track:2fmMPJb5EzZCx8BcNJvVk4</td>\n",
       "      <td>https://api.spotify.com/v1/tracks/2fmMPJb5EzZC...</td>\n",
       "      <td>https://api.spotify.com/v1/audio-analysis/2fmM...</td>\n",
       "      <td>191560</td>\n",
       "      <td>4</td>\n",
       "    </tr>\n",
       "    <tr>\n",
       "      <th>11768</th>\n",
       "      <td>Flower</td>\n",
       "      <td>Moby</td>\n",
       "      <td>60rIdEPDrzyLiLC0icp3xz</td>\n",
       "      <td>0</td>\n",
       "      <td>0.686</td>\n",
       "      <td>0.610</td>\n",
       "      <td>7</td>\n",
       "      <td>-5.902</td>\n",
       "      <td>1</td>\n",
       "      <td>0.0262</td>\n",
       "      <td>0.19000</td>\n",
       "      <td>0.000931</td>\n",
       "      <td>0.0710</td>\n",
       "      <td>0.766</td>\n",
       "      <td>80.567</td>\n",
       "      <td>audio_features</td>\n",
       "      <td>60rIdEPDrzyLiLC0icp3xz</td>\n",
       "      <td>spotify:track:60rIdEPDrzyLiLC0icp3xz</td>\n",
       "      <td>https://api.spotify.com/v1/tracks/60rIdEPDrzyL...</td>\n",
       "      <td>https://api.spotify.com/v1/audio-analysis/60rI...</td>\n",
       "      <td>206293</td>\n",
       "      <td>4</td>\n",
       "    </tr>\n",
       "    <tr>\n",
       "      <th>11769</th>\n",
       "      <td>Brighter Than Gold</td>\n",
       "      <td>The Cat Empire</td>\n",
       "      <td>0sEm1ld0V8YTCPcjPVfIsc</td>\n",
       "      <td>47</td>\n",
       "      <td>0.711</td>\n",
       "      <td>0.718</td>\n",
       "      <td>6</td>\n",
       "      <td>-5.739</td>\n",
       "      <td>1</td>\n",
       "      <td>0.0380</td>\n",
       "      <td>0.00824</td>\n",
       "      <td>0.002080</td>\n",
       "      <td>0.0732</td>\n",
       "      <td>0.688</td>\n",
       "      <td>117.071</td>\n",
       "      <td>audio_features</td>\n",
       "      <td>0sEm1ld0V8YTCPcjPVfIsc</td>\n",
       "      <td>spotify:track:0sEm1ld0V8YTCPcjPVfIsc</td>\n",
       "      <td>https://api.spotify.com/v1/tracks/0sEm1ld0V8YT...</td>\n",
       "      <td>https://api.spotify.com/v1/audio-analysis/0sEm...</td>\n",
       "      <td>200293</td>\n",
       "      <td>4</td>\n",
       "    </tr>\n",
       "    <tr>\n",
       "      <th>11770</th>\n",
       "      <td>Fury of the Storm - Live</td>\n",
       "      <td>DragonForce</td>\n",
       "      <td>4JPE3Q7vuFa6UFoduMgZm2</td>\n",
       "      <td>11</td>\n",
       "      <td>0.323</td>\n",
       "      <td>0.997</td>\n",
       "      <td>1</td>\n",
       "      <td>-3.440</td>\n",
       "      <td>1</td>\n",
       "      <td>0.2640</td>\n",
       "      <td>0.00767</td>\n",
       "      <td>0.110000</td>\n",
       "      <td>0.9480</td>\n",
       "      <td>0.315</td>\n",
       "      <td>199.962</td>\n",
       "      <td>audio_features</td>\n",
       "      <td>4JPE3Q7vuFa6UFoduMgZm2</td>\n",
       "      <td>spotify:track:4JPE3Q7vuFa6UFoduMgZm2</td>\n",
       "      <td>https://api.spotify.com/v1/tracks/4JPE3Q7vuFa6...</td>\n",
       "      <td>https://api.spotify.com/v1/audio-analysis/4JPE...</td>\n",
       "      <td>409013</td>\n",
       "      <td>4</td>\n",
       "    </tr>\n",
       "  </tbody>\n",
       "</table>\n",
       "<p>11771 rows × 22 columns</p>\n",
       "</div>"
      ],
      "text/plain": [
       "                         song_name            name  ... duration_ms time_signature\n",
       "0                               2K     Nosaj Thing  ...      152560              3\n",
       "1                  4 Billion Souls       The Doors  ...      197707              4\n",
       "2                 4 Minute Warning       Radiohead  ...      244285              4\n",
       "3                        7 Element           Vitas  ...      249940              4\n",
       "4                         #9 Dream          R.E.M.  ...      278320              4\n",
       "...                            ...             ...  ...         ...            ...\n",
       "11766  London Calling - Remastered       The Clash  ...      200480              4\n",
       "11767                    Low Rider             War  ...      191560              4\n",
       "11768                       Flower            Moby  ...      206293              4\n",
       "11769           Brighter Than Gold  The Cat Empire  ...      200293              4\n",
       "11770     Fury of the Storm - Live     DragonForce  ...      409013              4\n",
       "\n",
       "[11771 rows x 22 columns]"
      ]
     },
     "execution_count": 42,
     "metadata": {},
     "output_type": "execute_result"
    }
   ],
   "source": [
    "df_w_audio_ft.shape\n",
    "#there are duplicate songs (but artist is different) because of the left merge on df_final2"
   ]
  },
  {
   "cell_type": "code",
   "execution_count": 43,
   "metadata": {},
   "outputs": [],
   "source": [
    "df_w_audio_ft.to_csv('spotify_10000_audio_features.csv')"
   ]
  },
  {
   "cell_type": "code",
   "execution_count": null,
   "metadata": {},
   "outputs": [],
   "source": []
  }
 ],
 "metadata": {
  "colab": {
   "collapsed_sections": [],
   "name": "L. 6.05.ipynb",
   "provenance": []
  },
  "kernelspec": {
   "display_name": "Python 3 (ipykernel)",
   "language": "python",
   "name": "python3"
  },
  "language_info": {
   "codemirror_mode": {
    "name": "ipython",
    "version": 3
   },
   "file_extension": ".py",
   "mimetype": "text/x-python",
   "name": "python",
   "nbconvert_exporter": "python",
   "pygments_lexer": "ipython3",
   "version": "3.11.5"
  }
 },
 "nbformat": 4,
 "nbformat_minor": 4
}
