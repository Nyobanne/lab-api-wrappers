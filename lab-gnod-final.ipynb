{
 "cells": [
  {
   "cell_type": "markdown",
   "id": "b1dfc396-a7af-46af-8ef0-9a5bc5500b6d",
   "metadata": {},
   "source": [
    "### 6.06: GNOD final"
   ]
  },
  {
   "cell_type": "markdown",
   "id": "7fa10a6f-4448-46bb-9e82-562037b2aa28",
   "metadata": {},
   "source": [
    "* Check whether or not the input song is in the PopVortex Hot 100.\n",
    "* Recommend another Hot 100 song\n",
    "* If it is NOT in the hot 100, then\n",
    "    * collect the audio features from the Spotify API for the input song.\n",
    "    * You want to send the Spotify audio features of the submitted song to the clustering model, which should return a cluster number.\n",
    "    * Then you recommend a song from the same cluster number.\n"
   ]
  },
  {
   "cell_type": "markdown",
   "id": "ace916c4-114f-4a3e-9068-398ac2376c66",
   "metadata": {},
   "source": [
    "### Authentification"
   ]
  },
  {
   "cell_type": "code",
   "execution_count": 1,
   "id": "3e95a9ea-f140-4298-b994-ff1e14f96760",
   "metadata": {},
   "outputs": [],
   "source": [
    "import spotipy\n",
    "from spotipy.oauth2 import SpotifyClientCredentials\n",
    "import spotipy\n",
    "from spotipy.oauth2 import SpotifyClientCredentials\n",
    "import pandas as pd"
   ]
  },
  {
   "cell_type": "code",
   "execution_count": 2,
   "id": "23b6d9a5-bd34-49b4-af05-1cbe25411488",
   "metadata": {},
   "outputs": [],
   "source": [
    "secrets_file = open(\"secrets.txt\",\"r\")\n",
    "string = secrets_file.read()\n",
    "secrets_dict={}\n",
    "for line in string.split('\\n'):\n",
    "    if len(line) > 0:\n",
    "        #print(line.split(':'))\n",
    "        secrets_dict[line.split(':')[0]]=line.split(':')[1].strip()\n",
    "#Initialize SpotiPy with user credentials\n",
    "sp = spotipy.Spotify(auth_manager=SpotifyClientCredentials(client_id=secrets_dict['clientid'],\n",
    "                                                           client_secret=secrets_dict['clientsecret']))"
   ]
  },
  {
   "cell_type": "markdown",
   "id": "c6b28adb-f81b-4cbd-a417-1e118e7ba0e8",
   "metadata": {},
   "source": [
    "## Retrieve files"
   ]
  },
  {
   "cell_type": "code",
   "execution_count": 6,
   "id": "f11b3198-537d-4949-a6f6-47c64445cc13",
   "metadata": {},
   "outputs": [],
   "source": [
    "from sklearn.cluster import KMeans\n",
    "import numpy as np\n",
    "from random import randint "
   ]
  },
  {
   "cell_type": "code",
   "execution_count": 29,
   "id": "a63d6f59-74de-4807-b386-d081f6790809",
   "metadata": {},
   "outputs": [],
   "source": [
    "#load kmean model\n",
    "import pickle\n",
    "with open('kmeans_model_spotify.pkl', 'rb') as f: #rb is loading\n",
    "    kmeans_loaded = pickle.load(f)"
   ]
  },
  {
   "cell_type": "code",
   "execution_count": 30,
   "id": "f426cf81-d2e7-400e-8131-082fc5d752d3",
   "metadata": {},
   "outputs": [],
   "source": [
    "# load scaler\n",
    "with open('scaler_spotify.pkl', 'rb') as f: \n",
    "    scaler_loaded = pickle.load(f)"
   ]
  },
  {
   "cell_type": "code",
   "execution_count": 16,
   "id": "19d1a281-3513-4dbd-9fc2-9c31a7194fce",
   "metadata": {},
   "outputs": [],
   "source": [
    "#clusternumber=kmeans_loaded.cluster_centers_\n",
    "#print(clusternumber)"
   ]
  },
  {
   "cell_type": "code",
   "execution_count": null,
   "id": "89097ab5-81bf-46fe-9243-ee762a7c4d49",
   "metadata": {},
   "outputs": [],
   "source": [
    "#vbigrepertoire=pd.read_csv('kaggle_songs_with_clusters.csv')"
   ]
  },
  {
   "cell_type": "code",
   "execution_count": 31,
   "id": "1bfb0e4c-7ae9-4439-8b74-1e81ea63632f",
   "metadata": {},
   "outputs": [],
   "source": [
    "bigrepertoire=pd.read_csv('spotify_10000_with_clusters.csv')"
   ]
  },
  {
   "cell_type": "code",
   "execution_count": 3,
   "id": "a6d784d0-d94f-4335-a3ee-b4c0d788c01a",
   "metadata": {},
   "outputs": [],
   "source": [
    "repertoire=pd.read_csv('repertoire_top100.csv')"
   ]
  },
  {
   "cell_type": "markdown",
   "id": "a82fc5b6-fecc-41a4-9b31-c237c9464b63",
   "metadata": {},
   "source": [
    "### Function"
   ]
  },
  {
   "cell_type": "code",
   "execution_count": 48,
   "id": "6f394efa-9f3c-44d0-afa3-e73970ae856d",
   "metadata": {},
   "outputs": [],
   "source": [
    "\n",
    "def recommendation():\n",
    "    track_name=input(\"enter song title\")\n",
    "    artist_name=input(\"enter artist name\")\n",
    "\n",
    "#is song in TOP 100?\n",
    "    if track_name in repertoire['song_title'].values:\n",
    "        #index of input song if it exists\n",
    "        input_index = repertoire[repertoire['song_title'] == track_name].index[0]\n",
    "        \n",
    "        # generate a random index different from the index of the input song\n",
    "        random_index = random.randint(0, len(repertoire) - 2)\n",
    "        \n",
    "        if random_index >= input_index:\n",
    "            random_index += 1\n",
    "        random_track_100 = repertoire.loc[random_index, 'song_title']\n",
    "        random_artist_100 = repertoire.loc[random_index, 'Artist_Name']\n",
    "        print(f'We recommend you this Hot Song \"{random_track_100}\" by \"{random_artist_100}\". Do you like it?')\n",
    "\n",
    "#is song on Spotify?\n",
    "    else: \n",
    "        results = sp.search(q=f'track:{track_name} artist:{artist_name}', type='track', limit=1)\n",
    "        # Extract track ID from spotify search\n",
    "        if results['tracks']['items']: #if search is successful\n",
    "            track_id = results['tracks']['items'][0]['id'] #we take ID from first instance of the search\n",
    "            ##print(f'Track ID for \"{track_name}\" by {artist_name}: {track_id}') #this will show spotify search was successful\n",
    "            #get audio features\n",
    "            features=sp.audio_features(track_id)\n",
    "            df_features=pd.DataFrame(features) #we make the features a df so we can transform it\n",
    "            ##display(df_features)\n",
    "            x=df_features[['danceability', 'energy', 'key', 'loudness', 'mode', 'speechiness', \n",
    "            'acousticness', 'instrumentalness', 'liveness', 'valence', 'tempo', 'duration_ms']]\n",
    "            #scale\n",
    "            x_scaled=scaler_loaded.transform(x)\n",
    "            #find cluster\n",
    "            x_cluster=kmeans_loaded.predict(x_scaled)\n",
    "            print(f'Cluster is:\"{x_cluster}\"')\n",
    "            #cluster is a list so we would need to refer to index 0 : [cluster[0]]\n",
    "            filtered= bigrepertoire[bigrepertoire['cluster'].isin(x_cluster)]#bigrepertoire[bigrepertoire['cluster'] == x_cluster]\n",
    "            ##display(filtered)\n",
    "            #find a random song within the same cluster\n",
    "            filtered.reset_index(drop=True, inplace=True) #resetting index\n",
    "            random_index = np.random.randint(0, len(filtered)) #you want to chose within cluster length\n",
    "            reco_track = filtered.loc[random_index, 'song_name']\n",
    "            reco_artist = filtered.loc[random_index, 'name']\n",
    "            print(f'We recommend you a similar song: \"{reco_track}\" by \"{reco_artist}\". turn this up!')\n",
    "\n",
    "        else:\n",
    "            print(f'Oops. Track \"{track_name}\" by {artist_name} not found.')\n",
    "\n"
   ]
  },
  {
   "cell_type": "code",
   "execution_count": 50,
   "id": "74da627f-b6d3-44d8-a4a6-190aff90abac",
   "metadata": {},
   "outputs": [
    {
     "name": "stdin",
     "output_type": "stream",
     "text": [
      "enter song title Daddy Cool\n",
      "enter artist name Boney M\n"
     ]
    },
    {
     "name": "stdout",
     "output_type": "stream",
     "text": [
      "Cluster is:\"[7]\"\n",
      "We recommend you a similar song: \"Another Love - Zwette Edit\" by \"Zwette\". turn this up!\n"
     ]
    }
   ],
   "source": [
    "recommendation()"
   ]
  },
  {
   "cell_type": "code",
   "execution_count": null,
   "id": "cac70540-5e50-4a43-9bec-4083e85ea089",
   "metadata": {},
   "outputs": [],
   "source": []
  }
 ],
 "metadata": {
  "kernelspec": {
   "display_name": "Python 3 (ipykernel)",
   "language": "python",
   "name": "python3"
  },
  "language_info": {
   "codemirror_mode": {
    "name": "ipython",
    "version": 3
   },
   "file_extension": ".py",
   "mimetype": "text/x-python",
   "name": "python",
   "nbconvert_exporter": "python",
   "pygments_lexer": "ipython3",
   "version": "3.11.5"
  }
 },
 "nbformat": 4,
 "nbformat_minor": 5
}
